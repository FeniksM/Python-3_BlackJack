#List for card values and names
import random
from IPython.display import clear_output

suits = ('Hearts', 'Diamonds', 'Spades', 'Clubs')
ranks = ('2', '3', '4', '5', '6', '7', '8', '9', '10', 'Jack', 'Queen', 'King', 'Ace')
values = {'2':2, '3':3, '4':4, '5':5, '6':6, '7':7, '8':8, '9':9, '10':10, 'Jack':10, 'Queen':10, 'King':10, 'Ace':11}

playing = True

# Карта
class Card:
    def __init__(self, suit, rank):
        self.suit = suit
        self.rank = rank
    
    def __str__(self):
        return "%s of %s" %(self.suit,self.rank)
    
# Колода
class Deck:
    def __init__(self):
        self.deck = []  # start with an empty list
        for suit in suits:
            for rank in ranks:
                self.deck = self.deck + [Card(suit,rank)]
    
    def __str__(self):
        return '\n'.join(list(map(str,self.deck)))

    def shuffle(self):
        random.shuffle(self.deck)
        
    def deal(self):
        return self.deck.pop()

# Карты на руке
class Hand:
    def __init__(self):
        self.cards = []  # start with an empty list as we did in the Deck class
        self.value = 0   # start with zero value
        self.aces = 0    # add an attribute to keep track of aces
    
    def __str__(self):
        string_cards = ''
        for i in self.cards:
            string_cards += i.__str__() + ', '
        return 'Cards: '+ string_cards + '- value is: ' + str(self.value) + ' - total Aces are: ' + str(self.aces)
    
    def add_card(self,card):
        self.cards.append(card)
        if card.rank == 'Ace':
            self.value = self.adjust_for_ace()
            self.aces += 1
        else:
            self.value += values[card.rank]
    
    def adjust_for_ace(self):
        if self.value > 11:
            self.value += 1
        else:
            self.value += 11
        return self.value

# Выигрыш
class Chips:
    def __init__(self):
        self.total = 100  # This can be set to a default value or supplied by a user input
        self.bet = 0
        
    def win_bet(self):
        # print(self.bet)
        self.total += self.bet
    
    def lose_bet(self):
        # print(self.bet)
        self.total -= self.bet
        
#Functions for bet
class WrongData(Exception): pass

# Сделать ставку
def take_bet(chip):
    while True:
        try:
            result = int(input("Please take a bet:"))
            if result > chip.total:
                raise WrongData("")
        except WrongData:
            print("Not enough money for such bet!!!\n")
        except:
            print("It's not a number\n")
        else:
            print("Bet is taken\n")
            return result
            break
            
# Вытянуть карту
def hit(deck,hand):
    hand.add_card(deck.deal())
    
# Игрок решает тянуть или остановиться
def hit_or_stand(deck,hand):
    global playing  # to control an upcoming while loop
    
    while True:
        result = input("Do you want to hit? (Y/N):")
        
        if result.lower() == 'y':
            playing = hit(deck,hand)
            break
        elif result.lower() == 'n':
            playing = False
            break
        else: 
            print("Please try again!")
            
def show_some(player,dealer):
    print("Dealer cards: ")
    print("<hidden>")
    print(dealer.cards[1])
    print("\nPlayer cards:", *player.cards, sep='\n')
    
    
def show_all(player,dealer):
    print("Dealer cards:", *dealer.cards, sep='\n')
    print(f"Dealer hand total is: {dealer.value}")
    print("\nPlayer cards:", *player.cards, sep='\n')
    print(f"Player hand total is: {player.value}")
    
def player_busts(player,dealer,chips):
    print("\nPlayer busts!")
    chips.lose_bet()

def player_wins(player,dealer,chips):
    print("\nPlayer win!")
    chips.win_bet()

def dealer_busts(player,dealer,chips):
    print("Dealer busts!")
    
def dealer_wins(player,dealer,chips):
    print("Dealer win!")
    
def push(player,dealer):
    print("Dealer and Player tie! It's a push.")
    
while playing:
    # clear_output()
    # Print an opening statement
    print('Welcome to BlackJack! Get as close to 21 as you can without going over!\n\
    Dealer hits until she reaches 17. Aces count as 1 or 11.')
    
    # Create & shuffle the deck, deal two cards to each player
    deck = Deck()
    deck.shuffle()
    
    player = Hand()
    player.add_card(deck.deal())
    player.add_card(deck.deal())
    #print("Player hand: ")
    #print(player)
    
    dealer = Hand()
    dealer.add_card(deck.deal())
    dealer.add_card(deck.deal())
    #print("Dealer hand: ")
    #print(dealer)
    
    # Set up the Player's chips
    chip = Chips()
   
    # Prompt the Player for their bet
    chip.bet = take_bet(chip)

    # Show cards (but keep one dealer card hidden)
    show_some(player,dealer)
    
    # Prompt for Player to Hit or Stand
    hit_or_stand(deck,player)
        
    # Show cards (but keep one dealer card hidden)
    show_some(player,dealer)
    # If player's hand exceeds 21, run player_busts() and break out of loop
    if (player.value > 21):
        player_busts(player,dealer,chip)
        dealer_wins(player,dealer,chip)
    # If Player hasn't busted, play Dealer's hand until Dealer reaches 17
    else:
        while (dealer.value < 17):
            hit(deck,dealer)
        # Show all cards
        print("\n__Final hands:__")
        show_all(player,dealer)
        # Run different winning scenarios
        if (player.value == dealer.value):
            push(player,dealer)
        elif (player.value > dealer.value or dealer.value > 21):
            player_wins(player,dealer,chip)
            dealer_busts(player,dealer,chip)
        elif (player.value < dealer.value and dealer.value <= 21):
            player_busts(player,dealer,chip)
            dealer_wins(player,dealer,chip)

    # Inform Player of their chips total 
    print(f"Total Player chips is: {chip.total}")
    # Ask to play again
    again = input("Do you want to play again? (Y/N)")
    if again.lower() == 'y':
        playing = True
        clear_output()
        continue
    elif again.lower() == 'n':
        print("Thank you for the game!")
        break
